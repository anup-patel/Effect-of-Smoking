{
 "cells": [
  {
   "cell_type": "code",
   "execution_count": 1,
   "metadata": {},
   "outputs": [],
   "source": [
    "import pandas as pd\n",
    "import numpy as np"
   ]
  },
  {
   "cell_type": "code",
   "execution_count": 2,
   "metadata": {},
   "outputs": [],
   "source": [
    "#data=pd.read_csv(\"../data/Raw Data_GeneSpring.txt\",header=None)"
   ]
  },
  {
   "cell_type": "code",
   "execution_count": 3,
   "metadata": {},
   "outputs": [],
   "source": [
    "with open('../data/Raw Data_GeneSpring.txt') as fp:\n",
    "    # 1. iterate over file line-by-line\n",
    "    # 2. strip line of newline symbols\n",
    "    # 3. split line by spaces into list (of number strings)\n",
    "    # 4. convert number substrings to int values\n",
    "    # 5. convert map object to list\n",
    "    data = [list(map(str, line.strip().split(\"\\t\"))) for line in fp]"
   ]
  },
  {
   "cell_type": "code",
   "execution_count": 4,
   "metadata": {},
   "outputs": [],
   "source": [
    "data=np.array(data)"
   ]
  },
  {
   "cell_type": "code",
   "execution_count": 5,
   "metadata": {
    "scrolled": true
   },
   "outputs": [],
   "source": [
    "#data[1]"
   ]
  },
  {
   "cell_type": "code",
   "execution_count": 6,
   "metadata": {},
   "outputs": [],
   "source": [
    "for i in range(1,len(data)):\n",
    "    for j in range(len(data[1])):\n",
    "        if(j!=0):\n",
    "            data[i][j]=float(data[i][j])"
   ]
  },
  {
   "cell_type": "code",
   "execution_count": 7,
   "metadata": {},
   "outputs": [],
   "source": [
    "tmp=[]\n",
    "for i in range(1,len(data)):\n",
    "    tmp.append(data[i][3])"
   ]
  },
  {
   "cell_type": "code",
   "execution_count": 8,
   "metadata": {},
   "outputs": [
    {
     "data": {
      "text/plain": [
       "(array([6985.,  352.,  427.,  548.,  733.,  809.,  958., 1066., 1158.,\n",
       "        1358., 1325., 1499., 1541., 1600., 1678., 1709., 1731., 1787.,\n",
       "        1718., 1710., 1688., 1484., 1311., 1123.,  934.,  785.,  611.,\n",
       "         518.,  432.,  332.,  250.,  223.,  182.,  134.,  108.,   91.,\n",
       "          73.,   57.,   40.,   25.]),\n",
       " array([ 0.        ,  0.46745125,  0.9349025 ,  1.40235375,  1.869805  ,\n",
       "         2.33725625,  2.8047075 ,  3.27215875,  3.73961   ,  4.20706125,\n",
       "         4.6745125 ,  5.14196375,  5.609415  ,  6.07686625,  6.5443175 ,\n",
       "         7.01176875,  7.47922   ,  7.94667125,  8.4141225 ,  8.88157375,\n",
       "         9.349025  ,  9.81647625, 10.2839275 , 10.75137875, 11.21883   ,\n",
       "        11.68628125, 12.1537325 , 12.62118375, 13.088635  , 13.55608625,\n",
       "        14.0235375 , 14.49098875, 14.95844   , 15.42589125, 15.8933425 ,\n",
       "        16.36079375, 16.828245  , 17.29569625, 17.7631475 , 18.23059875,\n",
       "        18.69805   ]),\n",
       " <a list of 40 Patch objects>)"
      ]
     },
     "execution_count": 8,
     "metadata": {},
     "output_type": "execute_result"
    }
   ],
   "source": [
    "import matplotlib.pyplot as plt\n",
    "plt.yscale('log')\n",
    "plt.hist(tmp,bins=40,alpha=0.75,rwidth=0.3)"
   ]
  },
  {
   "cell_type": "code",
   "execution_count": 9,
   "metadata": {},
   "outputs": [
    {
     "data": {
      "text/plain": [
       "'tmp2=[]\\nfor i in range(1,len(data[1])):\\n    tmp2.append(data[1][i])\\n    '"
      ]
     },
     "execution_count": 9,
     "metadata": {},
     "output_type": "execute_result"
    }
   ],
   "source": [
    "\"\"\"tmp2=[]\n",
    "for i in range(1,len(data[1])):\n",
    "    tmp2.append(data[1][i])\n",
    "    \"\"\""
   ]
  },
  {
   "cell_type": "code",
   "execution_count": 10,
   "metadata": {},
   "outputs": [
    {
     "data": {
      "text/plain": [
       "'import sys\\n#x=range(1,20) \\nplt.hist(tmp2)'"
      ]
     },
     "execution_count": 10,
     "metadata": {},
     "output_type": "execute_result"
    }
   ],
   "source": [
    "\"\"\"import sys\n",
    "#x=range(1,20) \n",
    "plt.hist(tmp2)\"\"\""
   ]
  },
  {
   "cell_type": "code",
   "execution_count": 11,
   "metadata": {},
   "outputs": [],
   "source": [
    "# Male Non Smokers - (106-117)\n",
    "# Male Smokers - (118-129)\n",
    "# FeMale Non Smokers - (130-141)\n",
    "# FeMale Non Smokers - (142-153)"
   ]
  },
  {
   "cell_type": "code",
   "execution_count": 12,
   "metadata": {},
   "outputs": [],
   "source": [
    "#non_smokers_male\n",
    "non_smokers_male=[[0.0]*12 for p in range(1,len(data))]\n",
    "for i in range(1,len(data)):\n",
    "    for j in range(1,13):\n",
    "        non_smokers_male[i-1][j-1]=data[i][j]\n",
    "\n",
    "#smokers_male\n",
    "smokers_male=[[0.0]*12 for p in range(1,len(data))]\n",
    "x=-1\n",
    "for i in range(1,len(data)):\n",
    "    x=x+1\n",
    "    y=0\n",
    "    for j in range(13,25):\n",
    "        smokers_male[x][y]=data[i][j]\n",
    "        y=y+1\n",
    "        \n",
    "#non_smokers_female\n",
    "non_smokers_female=[[0.0]*12 for p in range(1,len(data))]\n",
    "x=-1\n",
    "for i in range(1,len(data)):\n",
    "    x=x+1\n",
    "    y=0\n",
    "    for j in range(25,37):\n",
    "        non_smokers_female[x][y]=data[i][j]\n",
    "        y=y+1\n",
    "        \n",
    "\n",
    "#smokers_female\n",
    "smokers_female=[[0.0]*12 for p in range(1,len(data))]\n",
    "x=-1\n",
    "for i in range(1,len(data)):\n",
    "    x=x+1\n",
    "    y=0\n",
    "    for j in range(37,49):\n",
    "        smokers_female[x][y]=data[i][j]\n",
    "        y=y+1\n",
    "          "
   ]
  },
  {
   "cell_type": "code",
   "execution_count": 13,
   "metadata": {},
   "outputs": [],
   "source": [
    "male=np.hstack((non_smokers_male,smokers_male))\n",
    "female=np.hstack((non_smokers_female,smokers_female))"
   ]
  },
  {
   "cell_type": "code",
   "execution_count": 14,
   "metadata": {},
   "outputs": [],
   "source": [
    "male_mean=np.mean(male)"
   ]
  },
  {
   "cell_type": "code",
   "execution_count": 15,
   "metadata": {},
   "outputs": [
    {
     "data": {
      "text/plain": [
       "6.829006607809448"
      ]
     },
     "execution_count": 15,
     "metadata": {},
     "output_type": "execute_result"
    }
   ],
   "source": [
    "male_mean"
   ]
  },
  {
   "cell_type": "code",
   "execution_count": 16,
   "metadata": {},
   "outputs": [],
   "source": [
    "female_mean=np.mean(female)"
   ]
  },
  {
   "cell_type": "code",
   "execution_count": 17,
   "metadata": {},
   "outputs": [
    {
     "data": {
      "text/plain": [
       "6.780976706685819"
      ]
     },
     "execution_count": 17,
     "metadata": {},
     "output_type": "execute_result"
    }
   ],
   "source": [
    "female_mean"
   ]
  },
  {
   "cell_type": "code",
   "execution_count": 19,
   "metadata": {},
   "outputs": [],
   "source": [
    "var_male=np.var(male)\n",
    "var_female=np.var(female)"
   ]
  },
  {
   "cell_type": "code",
   "execution_count": 20,
   "metadata": {},
   "outputs": [
    {
     "data": {
      "text/plain": [
       "16.80779596331106"
      ]
     },
     "execution_count": 20,
     "metadata": {},
     "output_type": "execute_result"
    }
   ],
   "source": [
    "var_male"
   ]
  },
  {
   "cell_type": "code",
   "execution_count": 21,
   "metadata": {},
   "outputs": [
    {
     "data": {
      "text/plain": [
       "17.224952290363372"
      ]
     },
     "execution_count": 21,
     "metadata": {},
     "output_type": "execute_result"
    }
   ],
   "source": [
    "var_female"
   ]
  },
  {
   "cell_type": "code",
   "execution_count": 22,
   "metadata": {},
   "outputs": [],
   "source": [
    "test_stats=abs(male_mean-female_mean)/np.sqrt(var_male + var_female)"
   ]
  },
  {
   "cell_type": "code",
   "execution_count": 23,
   "metadata": {},
   "outputs": [
    {
     "data": {
      "text/plain": [
       "0.008233096048621078"
      ]
     },
     "execution_count": 23,
     "metadata": {},
     "output_type": "execute_result"
    }
   ],
   "source": [
    "test_stats"
   ]
  }
 ],
 "metadata": {
  "kernelspec": {
   "display_name": "Python 3",
   "language": "python",
   "name": "python3"
  },
  "language_info": {
   "codemirror_mode": {
    "name": "ipython",
    "version": 3
   },
   "file_extension": ".py",
   "mimetype": "text/x-python",
   "name": "python",
   "nbconvert_exporter": "python",
   "pygments_lexer": "ipython3",
   "version": "3.6.8"
  }
 },
 "nbformat": 4,
 "nbformat_minor": 2
}
