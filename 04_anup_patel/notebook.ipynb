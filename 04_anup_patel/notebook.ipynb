{
 "cells": [
  {
   "cell_type": "code",
   "execution_count": 1,
   "metadata": {},
   "outputs": [],
   "source": [
    "import pandas as pd\n",
    "import numpy as np\n",
    "from scipy import stats"
   ]
  },
  {
   "cell_type": "code",
   "execution_count": 2,
   "metadata": {},
   "outputs": [],
   "source": [
    "#data=pd.read_csv(\"../data/Raw Data_GeneSpring.txt\",header=None)"
   ]
  },
  {
   "cell_type": "code",
   "execution_count": 3,
   "metadata": {},
   "outputs": [],
   "source": [
    "with open('../data/Raw Data_GeneSpring.txt') as fp:\n",
    "    # 1. iterate over file line-by-line\n",
    "    # 2. strip line of newline symbols\n",
    "    # 3. split line by spaces into list (of number strings)\n",
    "    # 4. convert number substrings to int values\n",
    "    # 5. convert map object to list\n",
    "    data = [list(map(str, line.strip().split(\"\\t\"))) for line in fp]"
   ]
  },
  {
   "cell_type": "code",
   "execution_count": 4,
   "metadata": {},
   "outputs": [],
   "source": [
    "data=np.array(data)"
   ]
  },
  {
   "cell_type": "code",
   "execution_count": 5,
   "metadata": {
    "scrolled": true
   },
   "outputs": [],
   "source": [
    "#data[2][48]"
   ]
  },
  {
   "cell_type": "code",
   "execution_count": 6,
   "metadata": {},
   "outputs": [],
   "source": [
    "#Gene Symbol\n",
    "#for Gene Symbol\n",
    "gene_symbol=[]\n",
    "for i in range(1,len(data)):\n",
    "        if(len(data[i])>49):\n",
    "            gene_symbol.append(data[i][49])\n",
    "        else:\n",
    "            gene_symbol.append('NA')"
   ]
  },
  {
   "cell_type": "code",
   "execution_count": 7,
   "metadata": {},
   "outputs": [],
   "source": [
    "#gene_symbol"
   ]
  },
  {
   "cell_type": "code",
   "execution_count": 8,
   "metadata": {},
   "outputs": [],
   "source": [
    "for i in range(1,len(data)):\n",
    "    for j in range(len(data[1])):\n",
    "        if(j!=0):\n",
    "            data[i][j]=float(data[i][j])"
   ]
  },
  {
   "cell_type": "code",
   "execution_count": 9,
   "metadata": {},
   "outputs": [],
   "source": [
    "tmp=[]\n",
    "for i in range(1,len(data)):\n",
    "    tmp.append(data[i][3])"
   ]
  },
  {
   "cell_type": "code",
   "execution_count": 10,
   "metadata": {},
   "outputs": [
    {
     "data": {
      "text/plain": [
       "\"import matplotlib.pyplot as plt\\nplt.yscale('log')\\nplt.hist(tmp,bins=40,alpha=0.75,rwidth=0.3)\""
      ]
     },
     "execution_count": 10,
     "metadata": {},
     "output_type": "execute_result"
    }
   ],
   "source": [
    "\"\"\"import matplotlib.pyplot as plt\n",
    "plt.yscale('log')\n",
    "plt.hist(tmp,bins=40,alpha=0.75,rwidth=0.3)\"\"\""
   ]
  },
  {
   "cell_type": "code",
   "execution_count": 11,
   "metadata": {},
   "outputs": [],
   "source": [
    "# Male Non Smokers - (106-117)\n",
    "# Male Smokers - (118-129)\n",
    "# FeMale Non Smokers - (130-141)\n",
    "# FeMale Smokers - (142-153)"
   ]
  },
  {
   "cell_type": "code",
   "execution_count": 12,
   "metadata": {},
   "outputs": [],
   "source": [
    "#non_smokers_male\n",
    "non_smokers_male=[[0.0]*12 for p in range(1,len(data))]\n",
    "for i in range(1,len(data)):\n",
    "    for j in range(1,13):\n",
    "        non_smokers_male[i-1][j-1]=data[i][j]\n",
    "\n",
    "#smokers_male\n",
    "smokers_male=[[0.0]*12 for p in range(1,len(data))]\n",
    "x=-1\n",
    "for i in range(1,len(data)):\n",
    "    x=x+1\n",
    "    y=0\n",
    "    for j in range(13,25):\n",
    "        smokers_male[x][y]=data[i][j]\n",
    "        y=y+1\n",
    "        \n",
    "#non_smokers_female\n",
    "non_smokers_female=[[0.0]*12 for p in range(1,len(data))]\n",
    "x=-1\n",
    "for i in range(1,len(data)):\n",
    "    x=x+1\n",
    "    y=0\n",
    "    for j in range(25,37):\n",
    "        non_smokers_female[x][y]=data[i][j]\n",
    "        y=y+1\n",
    "        \n",
    "\n",
    "#smokers_female\n",
    "smokers_female=[[0.0]*12 for p in range(1,len(data))]\n",
    "x=-1\n",
    "for i in range(1,len(data)):\n",
    "    x=x+1\n",
    "    y=0\n",
    "    for j in range(37,49):\n",
    "        smokers_female[x][y]=data[i][j]\n",
    "        y=y+1\n",
    "          \n",
    "            \n"
   ]
  },
  {
   "cell_type": "code",
   "execution_count": 13,
   "metadata": {},
   "outputs": [],
   "source": [
    "male=np.hstack((non_smokers_male,smokers_male))\n",
    "female=np.hstack((non_smokers_female,smokers_female))"
   ]
  },
  {
   "cell_type": "code",
   "execution_count": 14,
   "metadata": {},
   "outputs": [],
   "source": [
    "all_data=np.hstack((male,female))"
   ]
  },
  {
   "cell_type": "markdown",
   "metadata": {},
   "source": [
    "### Main"
   ]
  },
  {
   "cell_type": "code",
   "execution_count": 15,
   "metadata": {},
   "outputs": [],
   "source": [
    "# Male Non Smokers - (106-117)\n",
    "# Male Smokers - (118-129)\n",
    "# FeMale Non Smokers - (130-141)\n",
    "# FeMale Smokers - (142-153)\n",
    "#matrix=[male_mean,female_mean,non_smoker_mean,smoker_mean]\n",
    "A_null=[[0]*4 for p in range(48)]\n",
    "for i in range(12):\n",
    "    A_null[i][0]=1\n",
    "    A_null[i][2]=1\n",
    "    \n",
    "for i in range(12,24):\n",
    "    A_null[i][0]=1\n",
    "    A_null[i][3]=1\n",
    "\n",
    "for i in range(24,36):\n",
    "    A_null[i][1]=1\n",
    "    A_null[i][2]=1\n",
    "    \n",
    "for i in range(36,48):\n",
    "    A_null[i][1]=1\n",
    "    A_null[i][3]=1\n",
    "    "
   ]
  },
  {
   "cell_type": "code",
   "execution_count": 16,
   "metadata": {},
   "outputs": [],
   "source": [
    "#len(A_null)"
   ]
  },
  {
   "cell_type": "code",
   "execution_count": 17,
   "metadata": {},
   "outputs": [],
   "source": [
    "#A_null"
   ]
  },
  {
   "cell_type": "code",
   "execution_count": 18,
   "metadata": {},
   "outputs": [],
   "source": [
    "#matrix=[male_ns_mean,male_s_mean,female_ns_mean,female_s_mean]\n",
    "A=[[0]*4 for p in range(48)]\n",
    "for i in range(12):\n",
    "    A[i][0]=1\n",
    "    \n",
    "for i in range(12,24):\n",
    "    A[i][1]=1\n",
    "\n",
    "for i in range(24,36):\n",
    "    A[i][2]=1\n",
    "    \n",
    "for i in range(36,48):\n",
    "    A[i][3]=1"
   ]
  },
  {
   "cell_type": "code",
   "execution_count": 19,
   "metadata": {},
   "outputs": [],
   "source": [
    "#A"
   ]
  },
  {
   "cell_type": "code",
   "execution_count": 20,
   "metadata": {},
   "outputs": [],
   "source": [
    "A=np.matrix(A)\n",
    "A_null=np.matrix(A_null)\n",
    "r1=np.linalg.matrix_rank(A_null)\n",
    "r2=np.linalg.matrix_rank(A)"
   ]
  },
  {
   "cell_type": "code",
   "execution_count": 21,
   "metadata": {},
   "outputs": [],
   "source": [
    "#r1"
   ]
  },
  {
   "cell_type": "code",
   "execution_count": 22,
   "metadata": {},
   "outputs": [],
   "source": [
    "#r2"
   ]
  },
  {
   "cell_type": "code",
   "execution_count": 23,
   "metadata": {},
   "outputs": [],
   "source": [
    "#Calculation of F statistics\n",
    "n=48\n",
    "I=np.identity(48)\n",
    "F=[]\n",
    "for i in range(len(all_data)):\n",
    "   \n",
    "    h=all_data[i]\n",
    "    tmp1=np.matmul(h.T, I - (np.matmul(np.matmul(A_null,np.linalg.pinv(np.matmul(A_null.T,A_null))),A_null.T)))\n",
    "    tmp2=np.matmul(h.T, I - (np.matmul(np.matmul(A,np.linalg.pinv(np.matmul(A.T,A))),A.T)))\n",
    "    if(np.matmul(tmp2,h)==0):\n",
    "        f_stats= ((np.matmul(tmp1,h)/0.0000000000000000001)-1)*(n-r2)/(r2-r1)\n",
    "        F.append(f_stats)\n",
    "    else:\n",
    "        f_stats= ((np.matmul(tmp1,h)/np.matmul(tmp2,h))-1)*(n-r2)/(r2-r1)\n",
    "        F.append(f_stats)\n",
    "    "
   ]
  },
  {
   "cell_type": "code",
   "execution_count": 24,
   "metadata": {},
   "outputs": [],
   "source": [
    "F=np.array(F)"
   ]
  },
  {
   "cell_type": "code",
   "execution_count": 25,
   "metadata": {},
   "outputs": [],
   "source": [
    "F=F.tolist()"
   ]
  },
  {
   "cell_type": "code",
   "execution_count": 26,
   "metadata": {},
   "outputs": [],
   "source": [
    "#len(F)"
   ]
  },
  {
   "cell_type": "code",
   "execution_count": 27,
   "metadata": {},
   "outputs": [],
   "source": [
    "for i in range(len(F)):\n",
    "    F[i]=F[i][0]"
   ]
  },
  {
   "cell_type": "code",
   "execution_count": 28,
   "metadata": {},
   "outputs": [],
   "source": [
    "dfd=48-r2\n",
    "dfn=r2-r1\n",
    "p_score=1-stats.f.cdf(F,dfn,dfd)"
   ]
  },
  {
   "cell_type": "code",
   "execution_count": 29,
   "metadata": {},
   "outputs": [
    {
     "name": "stdout",
     "output_type": "stream",
     "text": [
      "p-Values Generated\n"
     ]
    }
   ],
   "source": [
    "print(\"p-Values Generated\")"
   ]
  },
  {
   "cell_type": "code",
   "execution_count": 30,
   "metadata": {},
   "outputs": [
    {
     "name": "stdout",
     "output_type": "stream",
     "text": [
      "Histogram for p-values saved\n"
     ]
    }
   ],
   "source": [
    "import matplotlib.pyplot as plt\n",
    "plt.hist(p_score,bins=20)\n",
    "plt.savefig(\"histogram.png\")\n",
    "print(\"Histogram for p-values saved\")"
   ]
  },
  {
   "cell_type": "code",
   "execution_count": 31,
   "metadata": {},
   "outputs": [],
   "source": [
    "count=0\n",
    "dict_genes={}\n",
    "genes_list=[]\n",
    "genes_symbol_list=[]\n",
    "for i in range(len(p_score)):\n",
    "    if(p_score[i]<0.05):\n",
    "        count=count+1\n",
    "        dict_genes[i]=[data[i][0],p_score[i][0]]\n",
    "        genes_list.append(data[i][0])\n",
    "        if(gene_symbol[i]!='NA'):\n",
    "            genes_symbol_list.append(gene_symbol[i])\n",
    "#print(count)\n",
    "    "
   ]
  },
  {
   "cell_type": "code",
   "execution_count": 32,
   "metadata": {},
   "outputs": [],
   "source": [
    "with open(\"genes_probe_list.txt\", \"w\") as txt_file:\n",
    "    for line in genes_list:\n",
    "        txt_file.write(\"\".join(line) + \"\\n\")"
   ]
  },
  {
   "cell_type": "code",
   "execution_count": 33,
   "metadata": {},
   "outputs": [
    {
     "name": "stdout",
     "output_type": "stream",
     "text": [
      "Genes Symbol list file generated\n"
     ]
    }
   ],
   "source": [
    "with open(\"genes_symbol_list.txt\", \"w\") as txt_file:\n",
    "    for line in genes_symbol_list:\n",
    "        txt_file.write(\"\".join(line) + \"\\n\")\n",
    "print(\"Genes Symbol list file generated\")"
   ]
  },
  {
   "cell_type": "code",
   "execution_count": 34,
   "metadata": {},
   "outputs": [],
   "source": [
    "#genes_list"
   ]
  },
  {
   "cell_type": "code",
   "execution_count": 35,
   "metadata": {},
   "outputs": [],
   "source": [
    "#dict_genes"
   ]
  },
  {
   "cell_type": "code",
   "execution_count": 36,
   "metadata": {},
   "outputs": [],
   "source": [
    "#p_score[1][0]"
   ]
  },
  {
   "cell_type": "code",
   "execution_count": 37,
   "metadata": {},
   "outputs": [],
   "source": [
    "import operator\n",
    "sorted_dict = sorted(dict_genes.values(), key=operator.itemgetter(1), reverse=False)"
   ]
  },
  {
   "cell_type": "code",
   "execution_count": 38,
   "metadata": {},
   "outputs": [],
   "source": [
    "#sorted_dict"
   ]
  },
  {
   "cell_type": "markdown",
   "metadata": {},
   "source": [
    "### FDR "
   ]
  },
  {
   "cell_type": "code",
   "execution_count": 39,
   "metadata": {},
   "outputs": [],
   "source": [
    "#Let n0=0.5\n",
    "q=0.05\n",
    "n0=811*0.2\n",
    "ps=[]\n",
    "for i in range(len(p_score)):\n",
    "    ps.append(p_score[i][0])"
   ]
  },
  {
   "cell_type": "code",
   "execution_count": 40,
   "metadata": {},
   "outputs": [],
   "source": [
    "ps=np.sort(ps)"
   ]
  },
  {
   "cell_type": "code",
   "execution_count": 41,
   "metadata": {},
   "outputs": [],
   "source": [
    "#ps"
   ]
  },
  {
   "cell_type": "code",
   "execution_count": 42,
   "metadata": {},
   "outputs": [],
   "source": [
    "# count the non-nan values\n",
    "#non_nans = (~np.isnan(ps)).sum(0)"
   ]
  },
  {
   "cell_type": "code",
   "execution_count": 43,
   "metadata": {},
   "outputs": [],
   "source": [
    "c=0\n",
    "for i in range(0,len(ps)):\n",
    "    if((n0*ps[i]/(i+1))<=q):\n",
    "        c=c+1\n",
    "    "
   ]
  },
  {
   "cell_type": "code",
   "execution_count": 44,
   "metadata": {},
   "outputs": [],
   "source": [
    "#c"
   ]
  },
  {
   "cell_type": "markdown",
   "metadata": {},
   "source": [
    "### Find Intersection  (1)"
   ]
  },
  {
   "cell_type": "code",
   "execution_count": 45,
   "metadata": {},
   "outputs": [],
   "source": [
    "#All Gene Symbols\n",
    "#genes_symbol_list"
   ]
  },
  {
   "cell_type": "code",
   "execution_count": 46,
   "metadata": {},
   "outputs": [],
   "source": [
    "with open('../data/XenobioticMetabolism1.txt') as fp:\n",
    "    next(fp)\n",
    "    next(fp)\n",
    "    data_f = [list(map(str, line.strip().split(\"\\t\"))) for line in fp]"
   ]
  },
  {
   "cell_type": "code",
   "execution_count": 47,
   "metadata": {},
   "outputs": [],
   "source": [
    "check=[]\n",
    "for i in range(len(data_f)):\n",
    "    check.append(data_f[i][0])"
   ]
  },
  {
   "cell_type": "code",
   "execution_count": 48,
   "metadata": {},
   "outputs": [],
   "source": [
    "count=0\n",
    "intersection1=[]\n",
    "for p in genes_symbol_list:\n",
    "    for q in check:\n",
    "        if(p==q):\n",
    "            intersection1.append(p)\n",
    "            count=count+1"
   ]
  },
  {
   "cell_type": "code",
   "execution_count": 49,
   "metadata": {},
   "outputs": [],
   "source": [
    "#count"
   ]
  },
  {
   "cell_type": "code",
   "execution_count": 50,
   "metadata": {},
   "outputs": [
    {
     "name": "stdout",
     "output_type": "stream",
     "text": [
      "Genes Symbol Intersetion with Xenobiotic:  ['SULT1A1', 'AOC2', 'CYP2S1', 'AADAC', 'HNF4A', 'AS3MT']\n",
      "Count :: 6\n"
     ]
    }
   ],
   "source": [
    "print(\"Genes Symbol Intersetion with Xenobiotic: \", intersection1)\n",
    "print(\"Count ::\", len(intersection1) )"
   ]
  },
  {
   "cell_type": "markdown",
   "metadata": {},
   "source": [
    "### Find Intersection (2) "
   ]
  },
  {
   "cell_type": "code",
   "execution_count": 51,
   "metadata": {},
   "outputs": [],
   "source": [
    "with open('../data/FreeRadicalResponse.txt') as fp:\n",
    "    next(fp)\n",
    "    next(fp)\n",
    "    data_f = [list(map(str, line.strip().split(\"\\t\"))) for line in fp]"
   ]
  },
  {
   "cell_type": "code",
   "execution_count": 52,
   "metadata": {},
   "outputs": [],
   "source": [
    "#len(data)"
   ]
  },
  {
   "cell_type": "code",
   "execution_count": 53,
   "metadata": {},
   "outputs": [],
   "source": [
    "check=[]\n",
    "for i in range(len(data_f)):\n",
    "    check.append(data_f[i][0])\n",
    "    \n",
    "    "
   ]
  },
  {
   "cell_type": "code",
   "execution_count": 54,
   "metadata": {},
   "outputs": [],
   "source": [
    "count=0\n",
    "intersection2=[]\n",
    "for p in genes_symbol_list:\n",
    "    for q in check:\n",
    "        if(p==q):\n",
    "            intersection2.append(p)\n",
    "            count=count+1"
   ]
  },
  {
   "cell_type": "code",
   "execution_count": 55,
   "metadata": {},
   "outputs": [],
   "source": [
    "#count"
   ]
  },
  {
   "cell_type": "code",
   "execution_count": 56,
   "metadata": {},
   "outputs": [],
   "source": [
    "#intersection2"
   ]
  },
  {
   "cell_type": "markdown",
   "metadata": {},
   "source": [
    "### Find Intersection (3) "
   ]
  },
  {
   "cell_type": "code",
   "execution_count": 57,
   "metadata": {},
   "outputs": [],
   "source": [
    "with open('../data/DNARepair1.txt') as fp:\n",
    "    next(fp)\n",
    "    next(fp)\n",
    "    data_f = [list(map(str, line.strip().split(\"\\t\"))) for line in fp]"
   ]
  },
  {
   "cell_type": "code",
   "execution_count": 58,
   "metadata": {},
   "outputs": [],
   "source": [
    "check=[]\n",
    "for i in range(len(data_f)):\n",
    "    check.append(data_f[i][0])"
   ]
  },
  {
   "cell_type": "code",
   "execution_count": 59,
   "metadata": {},
   "outputs": [],
   "source": [
    "count=0\n",
    "intersection3=[]\n",
    "for p in genes_symbol_list:\n",
    "    for q in check:\n",
    "        if(p==q):\n",
    "            intersection3.append(p)\n",
    "            count=count+1"
   ]
  },
  {
   "cell_type": "code",
   "execution_count": 60,
   "metadata": {},
   "outputs": [],
   "source": [
    "#count"
   ]
  },
  {
   "cell_type": "code",
   "execution_count": 61,
   "metadata": {},
   "outputs": [
    {
     "name": "stdout",
     "output_type": "stream",
     "text": [
      "Genes Symbol Intersetion with DNA Repair: ['PNKP']\n",
      "Count :: 1\n"
     ]
    }
   ],
   "source": [
    "print(\"Genes Symbol Intersetion with DNA Repair:\", intersection3)\n",
    "print(\"Count ::\", len(intersection3) )"
   ]
  },
  {
   "cell_type": "markdown",
   "metadata": {},
   "source": [
    "### Find Intersection (4) "
   ]
  },
  {
   "cell_type": "code",
   "execution_count": 62,
   "metadata": {},
   "outputs": [],
   "source": [
    "with open('../data/NKCellCytotoxicity.txt') as fp:\n",
    "    next(fp)\n",
    "    next(fp)\n",
    "    data_f = [list(map(str, line.strip().split(\"\\t\"))) for line in fp]"
   ]
  },
  {
   "cell_type": "code",
   "execution_count": 63,
   "metadata": {},
   "outputs": [],
   "source": [
    "#len(data_f)"
   ]
  },
  {
   "cell_type": "code",
   "execution_count": 64,
   "metadata": {},
   "outputs": [],
   "source": [
    "check=[]\n",
    "for i in range(len(data_f)):\n",
    "    check.append(data_f[i][0])"
   ]
  },
  {
   "cell_type": "code",
   "execution_count": 65,
   "metadata": {},
   "outputs": [],
   "source": [
    "count=0\n",
    "intersection4=[]\n",
    "for p in genes_symbol_list:\n",
    "    for q in check:\n",
    "        if(p==q):\n",
    "            intersection4.append(p)\n",
    "            count=count+1"
   ]
  },
  {
   "cell_type": "code",
   "execution_count": 66,
   "metadata": {},
   "outputs": [],
   "source": [
    "#count"
   ]
  },
  {
   "cell_type": "code",
   "execution_count": 67,
   "metadata": {},
   "outputs": [
    {
     "name": "stdout",
     "output_type": "stream",
     "text": [
      "Genes Symbol Intersetion with NKCellCytotoxicity :  ['IFNG', 'KLRC2', 'PTPN6', 'HLA-C', 'PRF1', 'HLA-E', 'HLA-G']\n",
      "Count :: 7\n"
     ]
    }
   ],
   "source": [
    "print(\"Genes Symbol Intersetion with NKCellCytotoxicity : \", intersection4)\n",
    "print(\"Count ::\", len(intersection4) )"
   ]
  },
  {
   "cell_type": "markdown",
   "metadata": {},
   "source": [
    "### Grouping lists "
   ]
  },
  {
   "cell_type": "code",
   "execution_count": 68,
   "metadata": {},
   "outputs": [],
   "source": [
    "female_s_up=[]\n",
    "female_s_down=[]\n",
    "male_s_up=[]\n",
    "male_s_down=[]"
   ]
  },
  {
   "cell_type": "markdown",
   "metadata": {},
   "source": [
    "### Grouping (1)"
   ]
  },
  {
   "cell_type": "code",
   "execution_count": 69,
   "metadata": {},
   "outputs": [],
   "source": [
    "rows=[]\n",
    "tmp=[]\n",
    "for i in range(len(gene_symbol)):\n",
    "    for j in range(len(intersection1)):\n",
    "        if(gene_symbol[i]==intersection1[j]):\n",
    "            #print(intersection1[j])\n",
    "            tmp.append(intersection1[j])\n",
    "            rows.append(i)\n",
    "            break "
   ]
  },
  {
   "cell_type": "code",
   "execution_count": 70,
   "metadata": {},
   "outputs": [],
   "source": [
    "#rows"
   ]
  },
  {
   "cell_type": "code",
   "execution_count": 71,
   "metadata": {},
   "outputs": [],
   "source": [
    "#tmp"
   ]
  },
  {
   "cell_type": "code",
   "execution_count": 82,
   "metadata": {},
   "outputs": [
    {
     "name": "stdout",
     "output_type": "stream",
     "text": [
      "\n",
      "Grouping for Xenobiotic\n",
      "Probe-Name Gene-Symbol Male-NS Male-S Female-NS Female-S\n",
      "A_23_P151294 IFNG 5.915514025 6.710654066666668 6.606077316666666 5.854469466666665\n",
      "A_23_P22232 KLRC2 9.717394458333333 10.676192666666667 10.301468541666667 9.549306850000002\n",
      "A_23_P113716 HLA-C 18.476547083333333 18.442838999999996 18.48375175 18.575801916666666\n",
      "A_24_P936272 HLA-C 15.186137666666667 14.983310166666664 14.905019250000002 15.305031708333336\n",
      "A_23_P162486 PTPN6 12.292167374999998 11.98547275 11.932862041666667 12.233174083333331\n",
      "A_23_P70539 HLA-C 16.353414833333332 16.180303000000002 16.022591416666668 16.37197258333333\n",
      "A_23_P95917 HLA-C 17.984208916666663 17.97244416666667 17.967677916666666 18.203733583333335\n",
      "A_23_P1473 PRF1 10.366630999999998 10.682892208333334 10.011584791666667 9.422278416666666\n",
      "A_24_P298409 HLA-C 17.93432891666667 17.873328166666667 17.885603833333334 18.0351685\n",
      "A_24_P326082 HLA-E 17.694454 17.707546583333336 17.5425235 17.80270308333333\n",
      "A_23_P30848 HLA-E 16.183479666666667 15.999899333333332 15.823918166666665 16.116731166666664\n",
      "A_24_P311926 HLA-G 18.459436 18.454599833333337 18.423251083333334 18.553686833333334\n",
      "A_23_P300112 HLA-G 10.004409 10.229219666666667 10.072513691666668 10.393545375\n",
      "A_23_P361614 HLA-G 7.697568258333331 7.559727541666668 7.030861325000001 7.784258216666667\n",
      "A_32_P460973 HLA-E 17.212060083333334 17.181419833333333 17.09641016666667 17.335779333333335\n"
     ]
    }
   ],
   "source": [
    "print(\"\\nGrouping for Xenobiotic\")\n",
    "print(\"Probe-Name\",\"Gene-Symbol\",\"Male-NS\",\"Male-S\",\"Female-NS\",\"Female-S\")\n",
    "for i in rows:\n",
    "    male_ns=all_data[i,0:12]\n",
    "    male_s=all_data[i,12:24]\n",
    "    female_ns=all_data[i,24:36]\n",
    "    female_s=all_data[i,36:48]\n",
    "    male_ns_mean=np.mean(male_ns)\n",
    "    male_s_mean=np.mean(male_s)\n",
    "    female_ns_mean=np.mean(female_ns)\n",
    "    female_s_mean=np.mean(female_s)\n",
    "    if(male_ns_mean<male_s_mean):\n",
    "        male_s_up.append(gene_symbol[i])\n",
    "    if(male_ns_mean>male_s_mean):\n",
    "        male_s_down.append(gene_symbol[i])\n",
    "    if(female_ns_mean<female_s_mean):\n",
    "        female_s_up.append(gene_symbol[i])\n",
    "    if(female_ns_mean>female_s_mean):\n",
    "        female_s_down.append(gene_symbol[i])\n",
    "    \n",
    "    print(data[i+1][0],gene_symbol[i],male_ns_mean,male_s_mean,female_ns_mean,female_s_mean)"
   ]
  },
  {
   "cell_type": "markdown",
   "metadata": {},
   "source": [
    "### Grouping (2)"
   ]
  },
  {
   "cell_type": "code",
   "execution_count": 73,
   "metadata": {},
   "outputs": [],
   "source": [
    "rows=[]\n",
    "tmp=[]\n",
    "for i in range(len(gene_symbol)):\n",
    "    for j in range(len(intersection2)):\n",
    "        if(gene_symbol[i]==intersection2[j]):\n",
    "            #print(intersection1[j])\n",
    "            tmp.append(intersection2[j])\n",
    "            rows.append(i)\n",
    "            break "
   ]
  },
  {
   "cell_type": "code",
   "execution_count": 74,
   "metadata": {},
   "outputs": [],
   "source": [
    "#rows"
   ]
  },
  {
   "cell_type": "markdown",
   "metadata": {},
   "source": [
    "### Grouping (3) "
   ]
  },
  {
   "cell_type": "code",
   "execution_count": 75,
   "metadata": {},
   "outputs": [],
   "source": [
    "rows=[]\n",
    "tmp=[]\n",
    "for i in range(len(gene_symbol)):\n",
    "    for j in range(len(intersection3)):\n",
    "        if(gene_symbol[i]==intersection3[j]):\n",
    "            #print(intersection1[j])\n",
    "            tmp.append(intersection3[j])\n",
    "            rows.append(i)\n",
    "            break "
   ]
  },
  {
   "cell_type": "code",
   "execution_count": 76,
   "metadata": {},
   "outputs": [],
   "source": [
    "#rows"
   ]
  },
  {
   "cell_type": "code",
   "execution_count": 81,
   "metadata": {},
   "outputs": [
    {
     "name": "stdout",
     "output_type": "stream",
     "text": [
      "\n",
      "Grouping for DNA Repair\n",
      "Probe-Name Gene-Symbol Male-NS Male-S Female-NS Female-S\n",
      "A_23_P151294 IFNG 5.915514025 6.710654066666668 6.606077316666666 5.854469466666665\n",
      "A_23_P22232 KLRC2 9.717394458333333 10.676192666666667 10.301468541666667 9.549306850000002\n",
      "A_23_P113716 HLA-C 18.476547083333333 18.442838999999996 18.48375175 18.575801916666666\n",
      "A_24_P936272 HLA-C 15.186137666666667 14.983310166666664 14.905019250000002 15.305031708333336\n",
      "A_23_P162486 PTPN6 12.292167374999998 11.98547275 11.932862041666667 12.233174083333331\n",
      "A_23_P70539 HLA-C 16.353414833333332 16.180303000000002 16.022591416666668 16.37197258333333\n",
      "A_23_P95917 HLA-C 17.984208916666663 17.97244416666667 17.967677916666666 18.203733583333335\n",
      "A_23_P1473 PRF1 10.366630999999998 10.682892208333334 10.011584791666667 9.422278416666666\n",
      "A_24_P298409 HLA-C 17.93432891666667 17.873328166666667 17.885603833333334 18.0351685\n",
      "A_24_P326082 HLA-E 17.694454 17.707546583333336 17.5425235 17.80270308333333\n",
      "A_23_P30848 HLA-E 16.183479666666667 15.999899333333332 15.823918166666665 16.116731166666664\n",
      "A_24_P311926 HLA-G 18.459436 18.454599833333337 18.423251083333334 18.553686833333334\n",
      "A_23_P300112 HLA-G 10.004409 10.229219666666667 10.072513691666668 10.393545375\n",
      "A_23_P361614 HLA-G 7.697568258333331 7.559727541666668 7.030861325000001 7.784258216666667\n",
      "A_32_P460973 HLA-E 17.212060083333334 17.181419833333333 17.09641016666667 17.335779333333335\n"
     ]
    }
   ],
   "source": [
    "print(\"\\nGrouping for DNA Repair\")\n",
    "print(\"Probe-Name\",\"Gene-Symbol\",\"Male-NS\",\"Male-S\",\"Female-NS\",\"Female-S\")\n",
    "for i in rows:\n",
    "    male_ns=all_data[i,0:12]\n",
    "    male_s=all_data[i,12:24]\n",
    "    female_ns=all_data[i,24:36]\n",
    "    female_s=all_data[i,36:48]\n",
    "    male_ns_mean=np.mean(male_ns)\n",
    "    male_s_mean=np.mean(male_s)\n",
    "    female_ns_mean=np.mean(female_ns)\n",
    "    female_s_mean=np.mean(female_s)\n",
    "    if(male_ns_mean<male_s_mean):\n",
    "        male_s_up.append(gene_symbol[i])\n",
    "    if(male_ns_mean>male_s_mean):\n",
    "        male_s_down.append(gene_symbol[i])\n",
    "    if(female_ns_mean<female_s_mean):\n",
    "        female_s_up.append(gene_symbol[i])\n",
    "    if(female_ns_mean>female_s_mean):\n",
    "        female_s_down.append(gene_symbol[i])\n",
    "    print(data[i+1][0],gene_symbol[i],male_ns_mean,male_s_mean,female_ns_mean,female_s_mean)"
   ]
  },
  {
   "cell_type": "markdown",
   "metadata": {},
   "source": [
    "### Grouping (4) "
   ]
  },
  {
   "cell_type": "code",
   "execution_count": 78,
   "metadata": {},
   "outputs": [],
   "source": [
    "rows=[]\n",
    "tmp=[]\n",
    "for i in range(len(gene_symbol)):\n",
    "    for j in range(len(intersection4)):\n",
    "        if(gene_symbol[i]==intersection4[j]):\n",
    "            #print(intersection1[j])\n",
    "            tmp.append(intersection4[j])\n",
    "            rows.append(i)\n",
    "            break "
   ]
  },
  {
   "cell_type": "code",
   "execution_count": 83,
   "metadata": {},
   "outputs": [
    {
     "name": "stdout",
     "output_type": "stream",
     "text": [
      "\n",
      "Grouping for Natural Killer Cell\n",
      "Probe-Name Gene-Symbol Male-NS Male-S Female-NS Female-S\n",
      "A_23_P151294 IFNG 5.915514025 6.710654066666668 6.606077316666666 5.854469466666665\n",
      "A_23_P22232 KLRC2 9.717394458333333 10.676192666666667 10.301468541666667 9.549306850000002\n",
      "A_23_P113716 HLA-C 18.476547083333333 18.442838999999996 18.48375175 18.575801916666666\n",
      "A_24_P936272 HLA-C 15.186137666666667 14.983310166666664 14.905019250000002 15.305031708333336\n",
      "A_23_P162486 PTPN6 12.292167374999998 11.98547275 11.932862041666667 12.233174083333331\n",
      "A_23_P70539 HLA-C 16.353414833333332 16.180303000000002 16.022591416666668 16.37197258333333\n",
      "A_23_P95917 HLA-C 17.984208916666663 17.97244416666667 17.967677916666666 18.203733583333335\n",
      "A_23_P1473 PRF1 10.366630999999998 10.682892208333334 10.011584791666667 9.422278416666666\n",
      "A_24_P298409 HLA-C 17.93432891666667 17.873328166666667 17.885603833333334 18.0351685\n",
      "A_24_P326082 HLA-E 17.694454 17.707546583333336 17.5425235 17.80270308333333\n",
      "A_23_P30848 HLA-E 16.183479666666667 15.999899333333332 15.823918166666665 16.116731166666664\n",
      "A_24_P311926 HLA-G 18.459436 18.454599833333337 18.423251083333334 18.553686833333334\n",
      "A_23_P300112 HLA-G 10.004409 10.229219666666667 10.072513691666668 10.393545375\n",
      "A_23_P361614 HLA-G 7.697568258333331 7.559727541666668 7.030861325000001 7.784258216666667\n",
      "A_32_P460973 HLA-E 17.212060083333334 17.181419833333333 17.09641016666667 17.335779333333335\n"
     ]
    }
   ],
   "source": [
    "print(\"\\nGrouping for Natural Killer Cell\")\n",
    "print(\"Probe-Name\",\"Gene-Symbol\",\"Male-NS\",\"Male-S\",\"Female-NS\",\"Female-S\")\n",
    "for i in rows:\n",
    "    male_ns=all_data[i,0:12]\n",
    "    male_s=all_data[i,12:24]\n",
    "    female_ns=all_data[i,24:36]\n",
    "    female_s=all_data[i,36:48]\n",
    "    male_ns_mean=np.mean(male_ns)\n",
    "    male_s_mean=np.mean(male_s)\n",
    "    female_ns_mean=np.mean(female_ns)\n",
    "    female_s_mean=np.mean(female_s)\n",
    "    if(male_ns_mean<male_s_mean):\n",
    "        male_s_up.append(gene_symbol[i])\n",
    "    if(male_ns_mean>male_s_mean):\n",
    "        male_s_down.append(gene_symbol[i])\n",
    "    if(female_ns_mean<female_s_mean):\n",
    "        female_s_up.append(gene_symbol[i])\n",
    "    if(female_ns_mean>female_s_mean):\n",
    "        female_s_down.append(gene_symbol[i])\n",
    "    print(data[i+1][0],gene_symbol[i],male_ns_mean,male_s_mean,female_ns_mean,female_s_mean)"
   ]
  },
  {
   "cell_type": "code",
   "execution_count": 84,
   "metadata": {},
   "outputs": [
    {
     "name": "stdout",
     "output_type": "stream",
     "text": [
      "\n",
      "****************** Final Grouping ***********************\n",
      "Female Smokers up genes {'HLA-E', 'HLA-G', 'PTPN6', 'AOC2', 'CYP2S1', 'SULT1A1', 'HLA-C', 'PNKP', 'HNF4A'}\n",
      "Female Smokers Down genes {'PRF1', 'IFNG', 'AS3MT', 'KLRC2', 'AADAC'}\n",
      "Male Smokers up genes {'PRF1', 'HLA-E', 'HLA-G', 'IFNG', 'AS3MT', 'KLRC2', 'AADAC', 'HNF4A'}\n",
      "Male Smokers down genes {'HLA-E', 'HLA-G', 'PTPN6', 'AOC2', 'CYP2S1', 'SULT1A1', 'HLA-C', 'PNKP', 'HNF4A'}\n"
     ]
    }
   ],
   "source": [
    "print(\"\\n****************** Final Grouping ***********************\")\n",
    "print(\"Female Smokers up genes\" ,set(female_s_up))\n",
    "print(\"Female Smokers Down genes\", set(female_s_down))\n",
    "print(\"Male Smokers up genes\" ,set(male_s_up))\n",
    "print(\"Male Smokers down genes\" ,set(male_s_down))"
   ]
  },
  {
   "cell_type": "code",
   "execution_count": null,
   "metadata": {},
   "outputs": [],
   "source": []
  }
 ],
 "metadata": {
  "kernelspec": {
   "display_name": "Python 3",
   "language": "python",
   "name": "python3"
  },
  "language_info": {
   "codemirror_mode": {
    "name": "ipython",
    "version": 3
   },
   "file_extension": ".py",
   "mimetype": "text/x-python",
   "name": "python",
   "nbconvert_exporter": "python",
   "pygments_lexer": "ipython3",
   "version": "3.7.4"
  }
 },
 "nbformat": 4,
 "nbformat_minor": 2
}
